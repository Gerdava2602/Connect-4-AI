{
  "nbformat": 4,
  "nbformat_minor": 0,
  "metadata": {
    "colab": {
      "provenance": []
    },
    "kernelspec": {
      "name": "python3",
      "display_name": "Python 3"
    },
    "language_info": {
      "name": "python"
    }
  },
  "cells": [
    {
      "cell_type": "markdown",
      "source": [
        "# Librerias"
      ],
      "metadata": {
        "id": "GQSQVn6_SBlu"
      }
    },
    {
      "cell_type": "code",
      "execution_count": null,
      "metadata": {
        "id": "ISE_vl5W18dS"
      },
      "outputs": [],
      "source": [
        "import numpy as np\n",
        "import pandas as pd\n",
        "from random import shuffle"
      ]
    },
    {
      "cell_type": "markdown",
      "source": [
        "# Game setup"
      ],
      "metadata": {
        "id": "Cir2gNHpoSWd"
      }
    },
    {
      "cell_type": "markdown",
      "source": [
        "## Tablero"
      ],
      "metadata": {
        "id": "BUVhYFhnSi3O"
      }
    },
    {
      "cell_type": "markdown",
      "source": [
        "Definimos el tablero utilizando ```numpy```"
      ],
      "metadata": {
        "id": "Xn1RFcWgSIo9"
      }
    },
    {
      "cell_type": "code",
      "source": [
        "board = np.zeros((6,7))\n",
        "board"
      ],
      "metadata": {
        "id": "iMqt7aZt2BOR",
        "colab": {
          "base_uri": "https://localhost:8080/"
        },
        "outputId": "26886e8e-8d39-4819-f092-50578246793a"
      },
      "execution_count": null,
      "outputs": [
        {
          "output_type": "execute_result",
          "data": {
            "text/plain": [
              "array([[0., 0., 0., 0., 0., 0., 0.],\n",
              "       [0., 0., 0., 0., 0., 0., 0.],\n",
              "       [0., 0., 0., 0., 0., 0., 0.],\n",
              "       [0., 0., 0., 0., 0., 0., 0.],\n",
              "       [0., 0., 0., 0., 0., 0., 0.],\n",
              "       [0., 0., 0., 0., 0., 0., 0.]])"
            ]
          },
          "metadata": {},
          "execution_count": 2
        }
      ]
    },
    {
      "cell_type": "markdown",
      "source": [
        "## Movimientos"
      ],
      "metadata": {
        "id": "V7vK-HqDSifK"
      }
    },
    {
      "cell_type": "markdown",
      "source": [
        "Definimos una función para saber si un movimiento es válido o no"
      ],
      "metadata": {
        "id": "7xgR2k3XSnSP"
      }
    },
    {
      "cell_type": "code",
      "source": [
        "def is_valid(board, y):\n",
        "  if(board[0][y] != 0):\n",
        "    return False\n",
        "  return True"
      ],
      "metadata": {
        "id": "qGEkfKgQnrev"
      },
      "execution_count": null,
      "outputs": []
    },
    {
      "cell_type": "markdown",
      "source": [
        "Ahora creamos una función para definir si algún jugador ha ganado el juego. Esta función reconoce movimientos ganadores dentro del tablero\n",
        "\n",
        "Retorna el ganador\n",
        "- Retorna 1 si el jugador A es el ganador\n",
        "- Retorna 2 si el jugador B es el ganador\n",
        "- Retorna 0 si es un empate\n"
      ],
      "metadata": {
        "id": "0PK80b-JqeGw"
      }
    },
    {
      "cell_type": "code",
      "source": [
        "def end_game(board):\n",
        "  rows = len(board)\n",
        "  cols = len(board[0])\n",
        "\n",
        "  # Busca las victorias horizontales\n",
        "  for row in range(rows):\n",
        "      for col in range(cols - 3):\n",
        "          if all(board[row][col+i] == 1 if col+i < cols else False for i in range(4)):\n",
        "              return 1\n",
        "          if all(board[row][col+i] == 2 if col+i < cols else False for i in range(4)):\n",
        "              return 2\n",
        "\n",
        "  # Busca las victorias verticales\n",
        "  for col in range(cols):\n",
        "      for row in range(rows - 3):\n",
        "          if all(board[row+i][col] == 1 if row+i < rows else False for i in range(4)):\n",
        "              return 1\n",
        "          if all(board[row+i][col] == 2 if row+i < rows else False for i in range(4)):\n",
        "              return 2\n",
        "  # Busca las victorias en diagonal (de izquierda arriba a derecha abajo)\n",
        "  for row in range(rows - 3):\n",
        "      for col in range(cols - 3):\n",
        "          if all(board[row+i][col+i] == 1 if col+i < cols and row+1 < rows else False for i in range(4)):\n",
        "            return 1\n",
        "          if all(board[row+i][col] == 2 if row+i < rows else False for i in range(4)):\n",
        "            return 2\n",
        "  # Busca las victorias en diagonal (de izquierda baja a derecha arriba)\n",
        "  for row in range(3, rows):\n",
        "      for col in range(cols - 3):\n",
        "          if all(board[row-i][col+i] == 1 if col+i < cols else False for i in range(4)):\n",
        "              return 1\n",
        "          if all(board[row+i][col] == 2 if row+i < rows else False for i in range(4)):\n",
        "            return 2\n",
        "\n",
        "  return 0"
      ],
      "metadata": {
        "id": "ptEdL3PcoJTq"
      },
      "execution_count": null,
      "outputs": []
    },
    {
      "cell_type": "markdown",
      "source": [
        "## Movimiento"
      ],
      "metadata": {
        "id": "eqebQYJztZsL"
      }
    },
    {
      "cell_type": "markdown",
      "source": [
        "La función ```move``` registra el movimiento del jugador proveido dentro del tablero tomando en cuanta la lógica de connect-4"
      ],
      "metadata": {
        "id": "a2Gc_FB8TlZR"
      }
    },
    {
      "cell_type": "code",
      "source": [
        "def move(board, y, player):\n",
        "  ROWS = len(board)\n",
        "  COLS = len(board[0])\n",
        "  if y > COLS-1 or y < 0:\n",
        "    raise 'Non valid'\n",
        "\n",
        "  if board[0][y] != 0:\n",
        "    raise 'Non valid'\n",
        "\n",
        "  if not is_valid(board, y):\n",
        "    raise 'Non valid'\n",
        "\n",
        "  for idx, row in enumerate(board):\n",
        "    if row[y] != 0:\n",
        "      board[idx-1][y] = player\n",
        "      break\n",
        "    if idx == ROWS-1:\n",
        "      board[ROWS-1][y] = player\n",
        "  return board"
      ],
      "metadata": {
        "id": "qT5c3P_zpUeE"
      },
      "execution_count": null,
      "outputs": []
    },
    {
      "cell_type": "markdown",
      "source": [
        "## Posiciones válidas"
      ],
      "metadata": {
        "id": "3s7-8Om9Tu4n"
      }
    },
    {
      "cell_type": "markdown",
      "source": [
        "La función ```get_valid_locations``` devuelve las posiciones disponibles para lanzar"
      ],
      "metadata": {
        "id": "nfLL5vuTTyoW"
      }
    },
    {
      "cell_type": "code",
      "source": [
        "def get_valid_locations(board):\n",
        "    valid_locations = []\n",
        "    for col in range(len(board[0])):\n",
        "        if is_valid(board, col):\n",
        "            valid_locations.append(col)\n",
        "    return valid_locations"
      ],
      "metadata": {
        "id": "3h0sjzcWzItG"
      },
      "execution_count": null,
      "outputs": []
    },
    {
      "cell_type": "markdown",
      "source": [
        "Devuelve un arreglo con las columnas disponibles para realizar un movimiento"
      ],
      "metadata": {
        "id": "TULnY-pHT7X2"
      }
    },
    {
      "cell_type": "code",
      "source": [
        "get_valid_locations(board)"
      ],
      "metadata": {
        "colab": {
          "base_uri": "https://localhost:8080/"
        },
        "id": "5_3kAp8WvT5x",
        "outputId": "b6520a5f-5746-43a4-8114-e1e72498defb"
      },
      "execution_count": null,
      "outputs": [
        {
          "output_type": "execute_result",
          "data": {
            "text/plain": [
              "[0, 1, 2, 3, 4, 5, 6]"
            ]
          },
          "metadata": {},
          "execution_count": 7
        }
      ]
    },
    {
      "cell_type": "markdown",
      "source": [
        "## Reconocimiento del final del juego"
      ],
      "metadata": {
        "id": "ROBcDQFzUn_8"
      }
    },
    {
      "cell_type": "code",
      "source": [
        "def terminal_move(board):\n",
        "  return end_game(board) != 0 or len(get_valid_locations(board)) == 0"
      ],
      "metadata": {
        "id": "89ql7HB1z9X9"
      },
      "execution_count": null,
      "outputs": []
    },
    {
      "cell_type": "markdown",
      "source": [
        "# Algoritmo"
      ],
      "metadata": {
        "id": "ZQPKjJY7vYCS"
      }
    },
    {
      "cell_type": "markdown",
      "source": [
        "Para resolver este problema se utiliza el algoritmo min max junto a la poda alfa beta. En este caso, se toma al jugador A (representado por 1) como el max y el jugador B (representado por 2) como el min"
      ],
      "metadata": {
        "id": "muGY6-IwzxFV"
      }
    },
    {
      "cell_type": "markdown",
      "source": [
        "# Heurísticas y sistema de recompensas"
      ],
      "metadata": {
        "id": "DLVAYn0415mJ"
      }
    },
    {
      "cell_type": "markdown",
      "source": [
        "Para apoyar al algoritmo y lograr que el juego se dé de la manera más \"inteligente\" posible. Se desarrollaron diferentes estrategias"
      ],
      "metadata": {
        "id": "iZDy4dhoU-PF"
      }
    },
    {
      "cell_type": "markdown",
      "source": [
        "Primeramente se definió una función llamada ```find_all_winning_moves``` que se encarga de identificar si el jugador proveido está a una pieza de ganar"
      ],
      "metadata": {
        "id": "J7WHWnykVHUs"
      }
    },
    {
      "cell_type": "code",
      "source": [
        "def find_all_winning_moves(board, player):\n",
        "    winning_moves = []\n",
        "\n",
        "    # Registra en dirección horizontal\n",
        "    for row in range(6):\n",
        "        for col in range(4):\n",
        "            sequence = board[row, col:col + 4]\n",
        "            if np.count_nonzero(sequence == player) == 3 and np.count_nonzero(sequence == 0) == 1:\n",
        "                empty_index = np.where(sequence == 0)[0][0]\n",
        "                winning_moves.append((row, col + empty_index))\n",
        "\n",
        "    # Registra en dirección vertical\n",
        "    for row in range(3):\n",
        "        for col in range(7):\n",
        "            sequence = board[row:row + 4, col]\n",
        "            if np.count_nonzero(sequence == player) == 3 and np.count_nonzero(sequence == 0) == 1:\n",
        "                empty_index = np.where(sequence == 0)[0][0]\n",
        "                winning_moves.append((row + empty_index, col))\n",
        "    # Registra en dirección diagonal de izquierda arriba a derecha abajo\n",
        "    for row in range(3):\n",
        "        for col in range(4):\n",
        "            sequence = np.array([board[row + i, col + i] for i in range(4)])\n",
        "            if np.count_nonzero(sequence == player) == 3 and np.count_nonzero(sequence == 0) == 1:\n",
        "                empty_index = np.where(sequence == 0)[0][0]\n",
        "                winning_moves.append((row + empty_index, col + empty_index))\n",
        "\n",
        "    # Registra en dirección diagonal de izquierda abajo a derecha arriba\n",
        "    for row in range(3, 6):\n",
        "        for col in range(4):\n",
        "            sequence = np.array([board[row - i, col + i] for i in range(4)])\n",
        "            if np.count_nonzero(sequence == player) == 3 and np.count_nonzero(sequence == 0) == 1:\n",
        "                empty_index = np.where(sequence == 0)[0][0]\n",
        "                winning_moves.append((row - empty_index, col + empty_index))\n",
        "\n",
        "    final = []\n",
        "    for move in winning_moves:\n",
        "      if move[0] + 1 < 6:\n",
        "        if board[move[0]+1][move[1]] != 0:\n",
        "          final.append(move[1])\n",
        "      else:\n",
        "        final.append(move[1])\n",
        "    return final"
      ],
      "metadata": {
        "id": "Td7PUrI8STnH"
      },
      "execution_count": null,
      "outputs": []
    },
    {
      "cell_type": "markdown",
      "source": [
        "Por otro lado, se realizó una función para darle recompensas al algoritmo que se realizó un movimiento satisfactorio"
      ],
      "metadata": {
        "id": "ohIUbP9kVmQX"
      }
    },
    {
      "cell_type": "code",
      "source": [
        "def evaluate_window(window, piece):\n",
        "    score = 0\n",
        "    # Cambia el puntaje dependiendo del turno\n",
        "    opp_piece = 2\n",
        "    if piece == 2:\n",
        "        opp_piece = 1\n",
        "\n",
        "    # Prioriza victorias\n",
        "    if window.count(piece) == 4:\n",
        "        score += 100\n",
        "    # Da puntos por conectar 3 piezas\n",
        "    elif window.count(piece) == 3 and window.count(0) == 1:\n",
        "        score += 5\n",
        "    # Da puntos por conectar 2 piezas\n",
        "    elif window.count(piece) == 2 and window.count(0) == 2:\n",
        "        score += 2\n",
        "    # Bloquea la victoria del oponente\n",
        "    if window.count(opp_piece) == 3 and window.count(0) == 1:\n",
        "        score -= 4\n",
        "\n",
        "    return score"
      ],
      "metadata": {
        "id": "tUzaTV692T9I"
      },
      "execution_count": null,
      "outputs": []
    },
    {
      "cell_type": "code",
      "source": [
        "def score_position(board, piece):\n",
        "    score = 0\n",
        "\n",
        "    # Da puntaje para la columna central\n",
        "    centre_array = [int(i) for i in list(board[:, len(board[0]) // 2])]\n",
        "    centre_count = centre_array.count(piece)\n",
        "    score += centre_count * 3\n",
        "\n",
        "    # Da puntaje en posiciones horizontales\n",
        "    for r in range(len(board)):\n",
        "        row_array = [int(i) for i in list(board[r, :])]\n",
        "        for c in range(len(board[0]) - 3):\n",
        "            # Create a horizontal window of 4\n",
        "            window = row_array[c:c + 4]\n",
        "            score += evaluate_window(window, piece)\n",
        "\n",
        "    # Da puntaje en posiciones verticales\n",
        "    for c in range(len(board[0])):\n",
        "        col_array = [int(i) for i in list(board[:, c])]\n",
        "        for r in range(len(board) - 3):\n",
        "            # Create a vertical window of 4\n",
        "            window = col_array[r:r + 4]\n",
        "            score += evaluate_window(window, piece)\n",
        "\n",
        "    # Da puntaje en posiciones diagonales (arriba abajo)\n",
        "    for r in range(len(board) - 3):\n",
        "        for c in range(len(board[0]) - 3):\n",
        "            # Create a positive diagonal window of 4\n",
        "            window = [board[r + i][c + i] for i in range(4)]\n",
        "            score += evaluate_window(window, piece)\n",
        "\n",
        "    # Da puntaje en posiciones diagonales (abajo arriba)\n",
        "    for r in range(len(board) - 3):\n",
        "        for c in range(len(board[0]) - 3):\n",
        "            # Create a negative diagonal window of 4\n",
        "            window = [board[r + 3 - i][c + i] for i in range(4)]\n",
        "            score += evaluate_window(window, piece)\n",
        "\n",
        "    return score"
      ],
      "metadata": {
        "id": "MZHT661o2BQg"
      },
      "execution_count": null,
      "outputs": []
    },
    {
      "cell_type": "markdown",
      "source": [
        "Ahora se realiza el algoritmo al cual se le dan los parámetros\n",
        "\n",
        "\n",
        "*   El tablero\n",
        "*   La profundidad máxima\n",
        "*   Alfa\n",
        "*   Beta\n",
        "*   Si se está maximizando o minimizando\n",
        "*   Si es el primer movimiento o no\n",
        "\n",
        "Ahora bien, el algoritmo tiene dos modos de funcionamiento.\n",
        "1. Se le provee un movimiento inicial al algoritmo y el algoritmo evalua a partir de ese movimiento (Se define la variable global ```MOVE``` y se agrega el parámetro ```first_move=True```)\n",
        "2. No se provee el primer movimiento\n"
      ],
      "metadata": {
        "id": "xXTPjBDlWn-B"
      }
    },
    {
      "cell_type": "code",
      "source": [
        "MOVE = 6"
      ],
      "metadata": {
        "id": "sX3j6_qsXtg1"
      },
      "execution_count": null,
      "outputs": []
    },
    {
      "cell_type": "code",
      "source": [
        "def minimax(board, depth, alpha, beta, maximisingPlayer, first_move=True):\n",
        "    # Se encuentran los movimientos ganadores para el jugador actual\n",
        "    winning = find_all_winning_moves(board, 1 if maximisingPlayer else 2)\n",
        "    file.write(f'alpha: {alpha} \\n beta: {beta} \\n board: {board} \\n ')\n",
        "    # Se encuentran los movimientos de ganadores para el oponente\n",
        "    block = find_all_winning_moves(board, 2 if maximisingPlayer else 1)\n",
        "    winning.extend(block)\n",
        "    # Se agregan los movimientos a un arreglo dónde se le da prioridad a ganar antes de bloquear\n",
        "    moves = winning\n",
        "    if len(moves) == 0:\n",
        "      # Si no hay movimientos ganadores o de bloqueo se consiguen las posiciones disponibles para mover y se elige un movimiento aleatorio\n",
        "      valid_locations = get_valid_locations(board)\n",
        "      shuffle(valid_locations)\n",
        "      moves = valid_locations\n",
        "\n",
        "    # Se evalua si ya se acabó el juego\n",
        "    is_terminal = terminal_move(board)\n",
        "    if depth == 0 or is_terminal:\n",
        "        if is_terminal:\n",
        "            # Se le da un puntaje demasiado alto a la victoria del jugador 1\n",
        "            if end_game(board) == 1:\n",
        "                return (None, 9999999)\n",
        "            # Se le da un puntaje demasiado bajo a la victoria del jugador 2\n",
        "            elif end_game(board) == 2:\n",
        "                return (None, -9999999)\n",
        "            else:  # Hubo empate\n",
        "                return (None, 0)\n",
        "        # Retorna el puntaje del bot\n",
        "        else:\n",
        "            return (None, score_position(board, 1))\n",
        "\n",
        "    if maximisingPlayer:\n",
        "        # Conducta al maximizar\n",
        "        value = -9999999\n",
        "        column = MOVE\n",
        "        if first_move:\n",
        "          # Crea una copia del tablero\n",
        "          b_copy = board.copy()\n",
        "          # Hace un movimiento en la columna inicial\n",
        "          b_copy = move(b_copy, column, 1)\n",
        "          file.write(f'move on column: {column} \\n')\n",
        "          new_score = minimax(b_copy, depth - 1, alpha, beta, False, False)[1]\n",
        "          if new_score > value:\n",
        "                value = new_score\n",
        "          alpha = max(alpha, value)\n",
        "          return column, value\n",
        "        else:\n",
        "          for col in moves:\n",
        "              # Create a copy of the board\n",
        "              b_copy = board.copy()\n",
        "              # Drop a piece in the temporary board and record score\n",
        "              b_copy = move(b_copy, col, 1)\n",
        "              file.write(f'move on column: {col} \\n')\n",
        "              new_score = minimax(b_copy, depth - 1, alpha, beta, False, False)[1]\n",
        "              if new_score > value:\n",
        "                  value = new_score\n",
        "              alpha = max(alpha, value)\n",
        "              if alpha >= beta:\n",
        "                  break\n",
        "          return column, value\n",
        "\n",
        "    else:\n",
        "        value = 9999999\n",
        "        # Conducta al minimizar\n",
        "        column = MOVE\n",
        "        if first_move:\n",
        "          b_copy = board.copy()\n",
        "          b_copy = move(b_copy, column, 2)\n",
        "          file.write(f'move on column: {column} \\n')\n",
        "          new_score = minimax(b_copy, depth - 1, alpha, beta, True, False)[1]\n",
        "          if new_score < value:\n",
        "                  value = new_score\n",
        "                  column = col\n",
        "          beta = min(beta, value)\n",
        "          return column, value\n",
        "        else:\n",
        "          for col in moves:\n",
        "              b_copy = board.copy()\n",
        "              b_copy = move(b_copy, col, 2)\n",
        "              file.write(f'move on column: {col} \\n')\n",
        "              new_score = minimax(b_copy, depth - 1, alpha, beta, True, False)[1]\n",
        "              if new_score < value:\n",
        "                  value = new_score\n",
        "                  column = col\n",
        "              beta = min(beta, value)\n",
        "              if alpha >= beta:\n",
        "                  break\n",
        "        return column, value"
      ],
      "metadata": {
        "id": "u24m93j4xpoB"
      },
      "execution_count": null,
      "outputs": []
    },
    {
      "cell_type": "markdown",
      "source": [
        "### Creación del archivo de muestra"
      ],
      "metadata": {
        "id": "lyigNwwZXVvA"
      }
    },
    {
      "cell_type": "markdown",
      "source": [
        "Se crea un archivo para mostrar las diferentes variables y estados. Al final del archivo se encuentra el veredicto del algoritmo"
      ],
      "metadata": {
        "id": "E7-DMXJMXZxO"
      }
    },
    {
      "cell_type": "code",
      "source": [
        "file = open('/content/game.txt', 'w')"
      ],
      "metadata": {
        "id": "1JtROagodidv"
      },
      "execution_count": null,
      "outputs": []
    },
    {
      "cell_type": "markdown",
      "source": [
        "Se inicializa alfa y beta en 0, junto al tablero y el parametro de maximización como ```True```"
      ],
      "metadata": {
        "id": "t6axTosQYLIX"
      }
    },
    {
      "cell_type": "code",
      "source": [
        "result = minimax(board, 42, 0, 0, True)\n",
        "result"
      ],
      "metadata": {
        "colab": {
          "base_uri": "https://localhost:8080/"
        },
        "id": "C8zFVSPA3ga8",
        "outputId": "934ce125-66d1-46d9-b9d0-897236937721"
      },
      "execution_count": null,
      "outputs": [
        {
          "output_type": "execute_result",
          "data": {
            "text/plain": [
              "(6, 9999999)"
            ]
          },
          "metadata": {},
          "execution_count": 15
        }
      ]
    },
    {
      "cell_type": "markdown",
      "source": [
        "Se agrega el resultado en el archivo a partir del resultado de la función"
      ],
      "metadata": {
        "id": "ISd8cPB6YCbR"
      }
    },
    {
      "cell_type": "code",
      "source": [
        "if result[1] == 9999999:\n",
        "  file.write('Probably will win player 1')\n",
        "elif result[1] == -9999999:\n",
        "  file.write('Probably will win player 2')\n",
        "else:\n",
        "  file.write('Probably a tie')\n",
        "file.close()"
      ],
      "metadata": {
        "id": "zCQpYD_Udf6w"
      },
      "execution_count": null,
      "outputs": []
    },
    {
      "cell_type": "markdown",
      "source": [
        "El archivo con las variables, el resultado y los estados se encuentra en la raiz del directorio local del notebook en google colab. Si se usa otro medio, configurar la ruta deseada desde la apertura del archivo."
      ],
      "metadata": {
        "id": "GsokaHoqX_kf"
      }
    }
  ]
}